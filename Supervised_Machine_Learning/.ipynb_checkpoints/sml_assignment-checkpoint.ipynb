{
 "cells": [
  {
   "cell_type": "markdown",
   "id": "c4e315c9",
   "metadata": {},
   "source": [
    "# Module 6: Supervised Machine Learning"
   ]
  },
  {
   "cell_type": "markdown",
   "id": "2b8d0538",
   "metadata": {},
   "source": [
    "# Theoretical Assignments:"
   ]
  },
  {
   "cell_type": "markdown",
   "id": "d6c85265",
   "metadata": {},
   "source": [
    "# 1. Explain Supervised vs. Unsupervised Learning"
   ]
  },
  {
   "cell_type": "markdown",
   "id": "0703ff21",
   "metadata": {},
   "source": [
    "Supervised learning is a machine learning approach where a model is trained on labeled data, meaning each input has a corresponding correct output. It is used for tasks like classification (e.g., spam detection) and regression (e.g., stock price prediction). In contrast, unsupervised learning deals with unlabeled data, where the model identifies patterns, structures, or relationships without predefined outputs. It is commonly used for clustering (e.g., customer segmentation) and dimensionality reduction (e.g., principal component analysis). While supervised learning focuses on making accurate predictions based on past data, unsupervised learning helps uncover hidden insights within raw data."
   ]
  },
  {
   "cell_type": "markdown",
   "id": "b0493bd8",
   "metadata": {},
   "source": [
    "# 2. How Regression Models are Used in Business"
   ]
  },
  {
   "cell_type": "markdown",
   "id": "226b94f0",
   "metadata": {},
   "source": [
    "Regression is a statistical technique used to identify relationships between dependent and independent variables. It helps businesses make predictions and optimize decision-making processes."
   ]
  },
  {
   "cell_type": "markdown",
   "id": "26e48335",
   "metadata": {},
   "source": [
    "How Businesses Use Regression Models\n",
    "1. Sales Forecasting:- \n",
    "Helps predict future revenue based on historical sales data.\n",
    "Assists in demand planning and inventory management.\n",
    "Example: A retail company uses past sales trends to forecast next quarter’s revenue.\n",
    "2. Marketing & Customer Insights\n",
    "Determines which factors influence customer behavior and purchasing decisions.\n",
    "Optimizes marketing campaigns based on past ad performance.\n",
    "Example: Analyzing the impact of online advertising spend on website conversions.\n",
    "3. Pricing Strategies\n",
    "Identifies the optimal pricing point based on competitor prices and consumer demand.\n",
    "Helps businesses maximize profits while staying competitive.\n",
    "Example: An airline adjusting ticket prices dynamically using regression-based models.\n",
    "4. Risk Management & Fraud Detection\n",
    "Predicts financial risks, credit defaults, and fraud detection.\n",
    "Used by banks and financial institutions to assess loan approvals.\n",
    "Example: A bank using logistic regression to assess the likelihood of loan default.\n",
    "5. Human Resources & Workforce Planning\n",
    "Predicts employee turnover and workforce productivity trends.\n",
    "Helps HR departments improve retention strategies.\n",
    "Example: Identifying factors that influence employee job satisfaction."
   ]
  },
  {
   "cell_type": "code",
   "execution_count": null,
   "id": "c7c8b206",
   "metadata": {},
   "outputs": [],
   "source": []
  }
 ],
 "metadata": {
  "kernelspec": {
   "display_name": "Python 3 (ipykernel)",
   "language": "python",
   "name": "python3"
  },
  "language_info": {
   "codemirror_mode": {
    "name": "ipython",
    "version": 3
   },
   "file_extension": ".py",
   "mimetype": "text/x-python",
   "name": "python",
   "nbconvert_exporter": "python",
   "pygments_lexer": "ipython3",
   "version": "3.11.5"
  }
 },
 "nbformat": 4,
 "nbformat_minor": 5
}
